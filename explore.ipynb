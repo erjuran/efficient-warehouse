{
 "cells": [
  {
   "cell_type": "code",
   "execution_count": 1,
   "metadata": {},
   "outputs": [],
   "source": [
    "import pandas as pd"
   ]
  },
  {
   "cell_type": "code",
   "execution_count": 3,
   "metadata": {},
   "outputs": [],
   "source": [
    "# Read the dataset\n",
    "inventory = pd.read_excel(\"inputs/Equipos.xlsx\")"
   ]
  },
  {
   "attachments": {},
   "cell_type": "markdown",
   "metadata": {},
   "source": [
    "### Explore the inventory data"
   ]
  },
  {
   "cell_type": "code",
   "execution_count": 4,
   "metadata": {},
   "outputs": [
    {
     "data": {
      "text/plain": [
       "Index(['GRUPO ', 'Nombre de la embarcación ', 'Clasificación ', 'EPC',\n",
       "       'Origen', 'Descripción ', 'TAG', 'Ancho (m)', 'Largo (m)',\n",
       "       'Largo+FS (m)', 'Ancho+FS (m)', 'Alto (m)', 'Peso (ton)', 'Área (m2)',\n",
       "       'Lugar de almacenamiento', 'Entrada  ', 'Días de almacenamiento ',\n",
       "       'Salida'],\n",
       "      dtype='object')"
      ]
     },
     "execution_count": 4,
     "metadata": {},
     "output_type": "execute_result"
    }
   ],
   "source": [
    "inventory.columns"
   ]
  },
  {
   "cell_type": "code",
   "execution_count": null,
   "metadata": {},
   "outputs": [],
   "source": [
    "# Get the different locations where the equipment may be stored\n",
    "inventory['Lugar de almacenamiento'].unique()\n",
    "inventory['Días de almacenamiento '].unique()\n",
    "inventory['GRUPO '].unique()"
   ]
  },
  {
   "cell_type": "code",
   "execution_count": 13,
   "metadata": {},
   "outputs": [],
   "source": [
    "# Remove the space at the end of the 'Lugar de almacenamiento' value \n",
    "inventory['Lugar de almacenamiento'] = inventory['Lugar de almacenamiento'].str.rstrip()"
   ]
  },
  {
   "cell_type": "code",
   "execution_count": 14,
   "metadata": {},
   "outputs": [
    {
     "data": {
      "text/plain": [
       "array(['Pulmon 1', 'Pulmon 2', 'Directo a planta', 'Pulmon 3'],\n",
       "      dtype=object)"
      ]
     },
     "execution_count": 14,
     "metadata": {},
     "output_type": "execute_result"
    }
   ],
   "source": [
    "# Check the values without the space at the end\n",
    "inventory['Lugar de almacenamiento'].unique()"
   ]
  },
  {
   "cell_type": "code",
   "execution_count": 1,
   "metadata": {},
   "outputs": [
    {
     "name": "stdout",
     "output_type": "stream",
     "text": [
      "1 a\n",
      "2 b\n",
      "3 c\n"
     ]
    }
   ],
   "source": [
    "lista1 = [{'gg':1}, {'hh':2}, {'jj':3}, {'oo':4}, {'yy':5}]\n",
    "lista2 = ['a', 'b', 'c']\n",
    "\n",
    "for elemento1, elemento2 in zip(lista1, lista2):\n",
    "    print(elemento1, elemento2)"
   ]
  },
  {
   "cell_type": "code",
   "execution_count": 2,
   "metadata": {},
   "outputs": [
    {
     "name": "stdout",
     "output_type": "stream",
     "text": [
      "[(1, 'a'), (2, 'b'), (3, 'c')]\n"
     ]
    }
   ],
   "source": [
    "lista_intercalada = list(zip(lista1, lista2))\n",
    "print(lista_intercalada)"
   ]
  },
  {
   "cell_type": "code",
   "execution_count": 3,
   "metadata": {},
   "outputs": [
    {
     "name": "stdout",
     "output_type": "stream",
     "text": [
      "[(1, 'a'), (2, 'b'), (3, 'c'), (4, None), (5, None)]\n"
     ]
    }
   ],
   "source": [
    "import itertools\n",
    "lista_intercalada = list(itertools.zip_longest(lista1, lista2))\n",
    "print(lista_intercalada)"
   ]
  },
  {
   "cell_type": "code",
   "execution_count": 6,
   "metadata": {},
   "outputs": [],
   "source": [
    "lista_intercalada[3][1]"
   ]
  }
 ],
 "metadata": {
  "kernelspec": {
   "display_name": "Python 3",
   "language": "python",
   "name": "python3"
  },
  "language_info": {
   "codemirror_mode": {
    "name": "ipython",
    "version": 3
   },
   "file_extension": ".py",
   "mimetype": "text/x-python",
   "name": "python",
   "nbconvert_exporter": "python",
   "pygments_lexer": "ipython3",
   "version": "3.10.6"
  },
  "orig_nbformat": 4,
  "vscode": {
   "interpreter": {
    "hash": "edc62870f953d54ffd3a5c5ff9e16eddb02d0d30c8ed016bd35e559acbc31de6"
   }
  }
 },
 "nbformat": 4,
 "nbformat_minor": 2
}
