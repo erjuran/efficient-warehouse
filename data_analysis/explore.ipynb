{
 "cells": [
  {
   "cell_type": "code",
   "execution_count": 1,
   "metadata": {},
   "outputs": [],
   "source": [
    "import pandas as pd"
   ]
  },
  {
   "attachments": {},
   "cell_type": "markdown",
   "metadata": {},
   "source": [
    "### Explore the inventory data"
   ]
  },
  {
   "cell_type": "code",
   "execution_count": 4,
   "metadata": {},
   "outputs": [
    {
     "data": {
      "text/plain": [
       "Index(['GRUPO ', 'Nombre de la embarcación ', 'Clasificación ', 'EPC',\n",
       "       'Origen', 'Descripción ', 'TAG', 'Ancho (m)', 'Largo (m)',\n",
       "       'Largo+FS (m)', 'Ancho+FS (m)', 'Alto (m)', 'Peso (ton)', 'Área (m2)',\n",
       "       'Lugar de almacenamiento', 'Entrada  ', 'Días de almacenamiento ',\n",
       "       'Salida'],\n",
       "      dtype='object')"
      ]
     },
     "execution_count": 4,
     "metadata": {},
     "output_type": "execute_result"
    }
   ],
   "source": [
    "inventory.columns"
   ]
  },
  {
   "cell_type": "code",
   "execution_count": null,
   "metadata": {},
   "outputs": [],
   "source": [
    "# Get the different locations where the equipment may be stored\n",
    "inventory['Lugar de almacenamiento'].unique()\n",
    "inventory['Días de almacenamiento '].unique()\n",
    "inventory['GRUPO '].unique()"
   ]
  },
  {
   "cell_type": "code",
   "execution_count": 13,
   "metadata": {},
   "outputs": [],
   "source": [
    "# Remove the space at the end of the 'Lugar de almacenamiento' value \n",
    "inventory['Lugar de almacenamiento'] = inventory['Lugar de almacenamiento'].str.rstrip()"
   ]
  },
  {
   "cell_type": "code",
   "execution_count": 14,
   "metadata": {},
   "outputs": [
    {
     "data": {
      "text/plain": [
       "array(['Pulmon 1', 'Pulmon 2', 'Directo a planta', 'Pulmon 3'],\n",
       "      dtype=object)"
      ]
     },
     "execution_count": 14,
     "metadata": {},
     "output_type": "execute_result"
    }
   ],
   "source": [
    "# Check the values without the space at the end\n",
    "inventory['Lugar de almacenamiento'].unique()"
   ]
  },
  {
   "cell_type": "code",
   "execution_count": 7,
   "metadata": {},
   "outputs": [
    {
     "name": "stdout",
     "output_type": "stream",
     "text": [
      "{'gg': 1} a\n",
      "{'hh': 2} b\n",
      "{'jj': 3} c\n"
     ]
    }
   ],
   "source": [
    "lista1 = [{'gg':1}, {'hh':2}, {'jj':3}, {'oo':4}, {'yy':5}]\n",
    "lista2 = ['a', 'b', 'c']\n",
    "\n",
    "for elemento1, elemento2 in zip(lista1, lista2):\n",
    "    print(elemento1, elemento2)"
   ]
  },
  {
   "cell_type": "code",
   "execution_count": 8,
   "metadata": {},
   "outputs": [
    {
     "name": "stdout",
     "output_type": "stream",
     "text": [
      "[({'gg': 1}, 'a'), ({'hh': 2}, 'b'), ({'jj': 3}, 'c')]\n"
     ]
    }
   ],
   "source": [
    "lista_intercalada = list(zip(lista1, lista2))\n",
    "print(lista_intercalada)"
   ]
  },
  {
   "cell_type": "code",
   "execution_count": 9,
   "metadata": {},
   "outputs": [
    {
     "name": "stdout",
     "output_type": "stream",
     "text": [
      "[({'gg': 1}, 'a'), ({'hh': 2}, 'b'), ({'jj': 3}, 'c'), ({'oo': 4}, None), ({'yy': 5}, None)]\n"
     ]
    }
   ],
   "source": [
    "import itertools\n",
    "lista_intercalada = list(itertools.zip_longest(lista1, lista2))\n",
    "print(lista_intercalada)"
   ]
  },
  {
   "cell_type": "code",
   "execution_count": 12,
   "metadata": {},
   "outputs": [
    {
     "name": "stdout",
     "output_type": "stream",
     "text": [
      "({'gg': 1}, 'a')\n",
      "({'hh': 2}, 'b')\n",
      "({'jj': 3}, 'c')\n",
      "({'oo': 4}, None)\n",
      "({'yy': 5}, None)\n"
     ]
    }
   ],
   "source": [
    "for slot in lista_intercalada:\n",
    "    print(slot)"
   ]
  },
  {
   "cell_type": "code",
   "execution_count": null,
   "metadata": {},
   "outputs": [],
   "source": [
    "import pandas as pd\n",
    "\n",
    "# create two dataframes with identical columns\n",
    "df1 = pd.DataFrame({'A': [1, 3, 5,88], 'B': [2, 4, 6]})\n",
    "df2 = pd.DataFrame({'A': [7, 9, 11], 'B': [8, 10, 12]})\n",
    "\n",
    "# concatenate the two dataframes vertically with keys\n",
    "result = pd.concat([df1, df2], keys=['df1', 'df2'])\n",
    "\n",
    "# reset the index to remove the multi-index\n",
    "#result.reset_index(level=1, drop=True, inplace=True)\n",
    "\n",
    "print(result)"
   ]
  },
  {
   "cell_type": "code",
   "execution_count": 21,
   "metadata": {},
   "outputs": [],
   "source": [
    "# Read the dataset\n",
    "inventory = pd.read_excel(\"inputs/Equipos.xlsx\")"
   ]
  },
  {
   "cell_type": "code",
   "execution_count": 22,
   "metadata": {},
   "outputs": [],
   "source": [
    "sample = inventory.iloc[0,:]"
   ]
  },
  {
   "cell_type": "code",
   "execution_count": 23,
   "metadata": {},
   "outputs": [
    {
     "name": "stdout",
     "output_type": "stream",
     "text": [
      "Number of days between 2023-04-11 21:24:13.466572 and 2023-04-15 00:00:00: -4\n"
     ]
    }
   ],
   "source": [
    "from datetime import datetime\n",
    "\n",
    "# get current date and time\n",
    "current_date_time = datetime.now()\n",
    "\n",
    "# create a Pandas timestamp from the current date and time\n",
    "current_timestamp = pd.Timestamp(current_date_time)\n",
    "\n",
    "# create another Pandas timestamp for a specified date and time\n",
    "specified_timestamp = sample['Salida']\n",
    "\n",
    "# calculate the number of days between the two timestamps\n",
    "num_days = (current_timestamp - specified_timestamp).days\n",
    "\n",
    "print(f\"Number of days between {current_timestamp} and {specified_timestamp}: {num_days}\")\n"
   ]
  },
  {
   "cell_type": "code",
   "execution_count": 3,
   "metadata": {},
   "outputs": [
    {
     "name": "stdout",
     "output_type": "stream",
     "text": [
      "A:[1, 3, 5, 88] B:[2, 4, 6] \n"
     ]
    }
   ],
   "source": [
    "df1 = {'A': [1, 3, 5,88], 'B': [2, 4, 6]}\n",
    "s = ''\n",
    "for key in df1:\n",
    "    s += key + ':' + str(df1[key]) + ' '\n",
    "print(str(s))"
   ]
  }
 ],
 "metadata": {
  "kernelspec": {
   "display_name": "Python 3",
   "language": "python",
   "name": "python3"
  },
  "language_info": {
   "codemirror_mode": {
    "name": "ipython",
    "version": 3
   },
   "file_extension": ".py",
   "mimetype": "text/x-python",
   "name": "python",
   "nbconvert_exporter": "python",
   "pygments_lexer": "ipython3",
   "version": "3.11.3"
  },
  "orig_nbformat": 4,
  "vscode": {
   "interpreter": {
    "hash": "edc62870f953d54ffd3a5c5ff9e16eddb02d0d30c8ed016bd35e559acbc31de6"
   }
  }
 },
 "nbformat": 4,
 "nbformat_minor": 2
}
